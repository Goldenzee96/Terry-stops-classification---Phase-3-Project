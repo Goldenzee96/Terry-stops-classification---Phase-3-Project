{
 "cells": [
  {
   "cell_type": "markdown",
   "metadata": {},
   "source": [
    "### BUSINESS UNDERSTANDING\n"
   ]
  },
  {
   "cell_type": "markdown",
   "metadata": {},
   "source": [
    "### Objective\n",
    "\n",
    "***What Are We Predicting?***\n",
    "\n",
    "- Goal: Build a binary classification model to predict whether an arrest occurs (\"Arrest Flag\") after a Terry Stop\n",
    "\n",
    "\n",
    "***What are Terry Stops?***\n",
    "\n",
    "- A Terry Stop is a temporary detention of a person by law enforcement based on reasonable suspicion.\n",
    "- These stops do not require probable cause (unlike an arrest).\n",
    "- Officers may frisk the suspect if they suspect the person is armed.\n",
    ".\n",
    "\n",
    "***Why it matters:***\n",
    "\n",
    "- Helps identify patterns in arrests after Terry Stops.\n",
    "- Can inform law enforcement policies.\n",
    "- Can reveal potential biases in policing.\n",
    "\n",
    " **Key Questions**:\n",
    "  1. What factors influence an arrest after a Terry Stop?\n",
    "  2. Can I identify potential biases in Terry Stops?\n",
    "  3. How well can we predict arrests based on available data?\n",
    "  4. Can the model achieve a high accuracy and fairness?\n",
    "\n",
    "\n",
    "\n",
    "***Who Are the Stakeholders?***\n",
    "\n",
    "- Law Enforcement: Can use predictions to allocate resources efficiently.\n",
    "- Policymakers & Civil Rights Groups: May analyze fairness in policing.\n",
    "- General Public: Interested in transparency and potential biases.\n"
   ]
  },
  {
   "cell_type": "markdown",
   "metadata": {},
   "source": [
    "### Machine Learning Justification\n",
    "- Traditional methods (manual review, simple statistics) may miss complex patterns in the data.\n",
    "- ML models can automatically detect relationships between various factors (time, location, subject attributes) and arrest outcomes."
   ]
  },
  {
   "cell_type": "markdown",
   "metadata": {},
   "source": [
    "### UNDERSTANDING THE DATA"
   ]
  },
  {
   "cell_type": "markdown",
   "metadata": {},
   "source": [
    "The Data Understanding phase is crucial because it helps us explore the dataset, identify missing values, understand variable distributions, and detect potential issues before preprocessing. "
   ]
  },
  {
   "cell_type": "markdown",
   "metadata": {},
   "source": [
    "### Overview\n",
    "This dataset contains records of Terry Stops conducted by police officers, with the goal of understanding factors influencing arrests. Our task is to build a classifier that predicts whether an arrest was made after a Terry Stop."
   ]
  },
  {
   "cell_type": "markdown",
   "metadata": {},
   "source": [
    "## Key Variables\n",
    "\n",
    "**Arrest Flag** \n",
    "- Whether an arrest occurred.\n",
    "\n",
    "**Weapon Trpe** \n",
    "- Type of weapon found. eg \"Firearm\", \"Knife\", etc.\n",
    "\n",
    "**Reported Time** \n",
    "- Time of the stop.\n",
    "\n",
    "**Reported Date** \n",
    "- Date of the stop.\n",
    "\n",
    "**Subject Race** \n",
    "- Race of the stopped person eg 'Black','White,' etc.\n",
    "\n",
    "**Subject Gender**\n",
    "- Gender of the stopped person.\n",
    "\n",
    "**Officer Race** \n",
    "- Race of the officer.\n",
    "\n",
    "**Officer Gender** \n",
    "- Gender of the officer.\n"
   ]
  },
  {
   "cell_type": "markdown",
   "metadata": {},
   "source": [
    "### Data Collection"
   ]
  },
  {
   "cell_type": "code",
   "execution_count": 1,
   "metadata": {},
   "outputs": [],
   "source": [
    "#import libraries\n",
    "import pandas as pd\n",
    "import numpy as np\n",
    "import seaborn as sns\n",
    "import matplotlib.pyplot as plt\n",
    "\n",
    "from sklearn.preprocessing import OneHotEncoder\n",
    "from sklearn.model_selection import train_test_split\n",
    "from sklearn.linear_model import LogisticRegression\n",
    "from sklearn.metrics import accuracy_score\n",
    "from sklearn.metrics import confusion_matrix\n",
    "from sklearn.metrics import classification_report\n",
    "from sklearn.metrics import roc_auc_score, roc_curve\n",
    "from sklearn.model_selection import GridSearchCV"
   ]
  },
  {
   "cell_type": "code",
   "execution_count": 2,
   "metadata": {},
   "outputs": [],
   "source": [
    "#loading  and inspecting the data\n",
    "df = pd.read_csv(\"Terry_Stops_20250222.csv\")"
   ]
  },
  {
   "cell_type": "code",
   "execution_count": 3,
   "metadata": {
    "scrolled": false
   },
   "outputs": [
    {
     "name": "stdout",
     "output_type": "stream",
     "text": [
      "<class 'pandas.core.frame.DataFrame'>\n",
      "RangeIndex: 62768 entries, 0 to 62767\n",
      "Data columns (total 23 columns):\n",
      " #   Column                    Non-Null Count  Dtype \n",
      "---  ------                    --------------  ----- \n",
      " 0   Subject Age Group         62768 non-null  object\n",
      " 1   Subject ID                62768 non-null  int64 \n",
      " 2   GO / SC Num               62768 non-null  int64 \n",
      " 3   Terry Stop ID             62768 non-null  int64 \n",
      " 4   Stop Resolution           62768 non-null  object\n",
      " 5   Weapon Type               62768 non-null  object\n",
      " 6   Officer ID                62768 non-null  object\n",
      " 7   Officer YOB               62768 non-null  int64 \n",
      " 8   Officer Gender            62768 non-null  object\n",
      " 9   Officer Race              62768 non-null  object\n",
      " 10  Subject Perceived Race    62768 non-null  object\n",
      " 11  Subject Perceived Gender  62768 non-null  object\n",
      " 12  Reported Date             62768 non-null  object\n",
      " 13  Reported Time             62768 non-null  object\n",
      " 14  Initial Call Type         62768 non-null  object\n",
      " 15  Final Call Type           62768 non-null  object\n",
      " 16  Call Type                 62768 non-null  object\n",
      " 17  Officer Squad             62209 non-null  object\n",
      " 18  Arrest Flag               62768 non-null  object\n",
      " 19  Frisk Flag                62768 non-null  object\n",
      " 20  Precinct                  62768 non-null  object\n",
      " 21  Sector                    62768 non-null  object\n",
      " 22  Beat                      62768 non-null  object\n",
      "dtypes: int64(4), object(19)\n",
      "memory usage: 11.0+ MB\n"
     ]
    },
    {
     "data": {
      "text/html": [
       "<div>\n",
       "<style scoped>\n",
       "    .dataframe tbody tr th:only-of-type {\n",
       "        vertical-align: middle;\n",
       "    }\n",
       "\n",
       "    .dataframe tbody tr th {\n",
       "        vertical-align: top;\n",
       "    }\n",
       "\n",
       "    .dataframe thead th {\n",
       "        text-align: right;\n",
       "    }\n",
       "</style>\n",
       "<table border=\"1\" class=\"dataframe\">\n",
       "  <thead>\n",
       "    <tr style=\"text-align: right;\">\n",
       "      <th></th>\n",
       "      <th>Subject Age Group</th>\n",
       "      <th>Subject ID</th>\n",
       "      <th>GO / SC Num</th>\n",
       "      <th>Terry Stop ID</th>\n",
       "      <th>Stop Resolution</th>\n",
       "      <th>Weapon Type</th>\n",
       "      <th>Officer ID</th>\n",
       "      <th>Officer YOB</th>\n",
       "      <th>Officer Gender</th>\n",
       "      <th>Officer Race</th>\n",
       "      <th>...</th>\n",
       "      <th>Reported Time</th>\n",
       "      <th>Initial Call Type</th>\n",
       "      <th>Final Call Type</th>\n",
       "      <th>Call Type</th>\n",
       "      <th>Officer Squad</th>\n",
       "      <th>Arrest Flag</th>\n",
       "      <th>Frisk Flag</th>\n",
       "      <th>Precinct</th>\n",
       "      <th>Sector</th>\n",
       "      <th>Beat</th>\n",
       "    </tr>\n",
       "  </thead>\n",
       "  <tbody>\n",
       "    <tr>\n",
       "      <th>0</th>\n",
       "      <td>36 - 45</td>\n",
       "      <td>-1</td>\n",
       "      <td>20180000190405</td>\n",
       "      <td>424220</td>\n",
       "      <td>Arrest</td>\n",
       "      <td>None</td>\n",
       "      <td>6770</td>\n",
       "      <td>1979</td>\n",
       "      <td>M</td>\n",
       "      <td>White</td>\n",
       "      <td>...</td>\n",
       "      <td>02:26:00.0000000</td>\n",
       "      <td>ROBBERY - CRITICAL (INCLUDES STRONG ARM)</td>\n",
       "      <td>THEFT - SHOPLIFT</td>\n",
       "      <td>911</td>\n",
       "      <td>NaN</td>\n",
       "      <td>N</td>\n",
       "      <td>N</td>\n",
       "      <td>Southwest</td>\n",
       "      <td>W</td>\n",
       "      <td>W1</td>\n",
       "    </tr>\n",
       "    <tr>\n",
       "      <th>1</th>\n",
       "      <td>1 - 17</td>\n",
       "      <td>-1</td>\n",
       "      <td>20170000001662</td>\n",
       "      <td>260749</td>\n",
       "      <td>Field Contact</td>\n",
       "      <td>None</td>\n",
       "      <td>7713</td>\n",
       "      <td>1982</td>\n",
       "      <td>M</td>\n",
       "      <td>White</td>\n",
       "      <td>...</td>\n",
       "      <td>19:02:00.0000000</td>\n",
       "      <td>-</td>\n",
       "      <td>-</td>\n",
       "      <td>-</td>\n",
       "      <td>NORTH PCT 3RD W - JOHN RELIEF</td>\n",
       "      <td>N</td>\n",
       "      <td>N</td>\n",
       "      <td>South</td>\n",
       "      <td>R</td>\n",
       "      <td>R3</td>\n",
       "    </tr>\n",
       "    <tr>\n",
       "      <th>2</th>\n",
       "      <td>46 - 55</td>\n",
       "      <td>-1</td>\n",
       "      <td>20160000001346</td>\n",
       "      <td>140772</td>\n",
       "      <td>Field Contact</td>\n",
       "      <td>None</td>\n",
       "      <td>5717</td>\n",
       "      <td>1968</td>\n",
       "      <td>M</td>\n",
       "      <td>White</td>\n",
       "      <td>...</td>\n",
       "      <td>16:42:00.0000000</td>\n",
       "      <td>-</td>\n",
       "      <td>-</td>\n",
       "      <td>-</td>\n",
       "      <td>NORTH PCT 2ND W - BOY (JOHN) - PLATOON 1</td>\n",
       "      <td>N</td>\n",
       "      <td>N</td>\n",
       "      <td>-</td>\n",
       "      <td>-</td>\n",
       "      <td>-</td>\n",
       "    </tr>\n",
       "    <tr>\n",
       "      <th>3</th>\n",
       "      <td>46 - 55</td>\n",
       "      <td>8295859194</td>\n",
       "      <td>20190000207006</td>\n",
       "      <td>8299762394</td>\n",
       "      <td>Arrest</td>\n",
       "      <td>-</td>\n",
       "      <td>6404</td>\n",
       "      <td>1971</td>\n",
       "      <td>M</td>\n",
       "      <td>White</td>\n",
       "      <td>...</td>\n",
       "      <td>17:08:12.0000000</td>\n",
       "      <td>BURG - OCCUPIED RESD</td>\n",
       "      <td>PROPERTY DEST (DAMG)</td>\n",
       "      <td>911</td>\n",
       "      <td>NORTH PCT 2ND W - NORA (JOHN) - PLATOON 1</td>\n",
       "      <td>Y</td>\n",
       "      <td>N</td>\n",
       "      <td>North</td>\n",
       "      <td>N</td>\n",
       "      <td>N3</td>\n",
       "    </tr>\n",
       "    <tr>\n",
       "      <th>4</th>\n",
       "      <td>26 - 35</td>\n",
       "      <td>-1</td>\n",
       "      <td>20150000004556</td>\n",
       "      <td>78999</td>\n",
       "      <td>Field Contact</td>\n",
       "      <td>None</td>\n",
       "      <td>5560</td>\n",
       "      <td>1960</td>\n",
       "      <td>M</td>\n",
       "      <td>White</td>\n",
       "      <td>...</td>\n",
       "      <td>11:16:00.0000000</td>\n",
       "      <td>-</td>\n",
       "      <td>-</td>\n",
       "      <td>-</td>\n",
       "      <td>WEST PCT 2ND W - MARY BEATS</td>\n",
       "      <td>N</td>\n",
       "      <td>N</td>\n",
       "      <td>-</td>\n",
       "      <td>-</td>\n",
       "      <td>-</td>\n",
       "    </tr>\n",
       "  </tbody>\n",
       "</table>\n",
       "<p>5 rows × 23 columns</p>\n",
       "</div>"
      ],
      "text/plain": [
       "  Subject Age Group  Subject ID     GO / SC Num  Terry Stop ID  \\\n",
       "0           36 - 45          -1  20180000190405         424220   \n",
       "1            1 - 17          -1  20170000001662         260749   \n",
       "2           46 - 55          -1  20160000001346         140772   \n",
       "3           46 - 55  8295859194  20190000207006     8299762394   \n",
       "4           26 - 35          -1  20150000004556          78999   \n",
       "\n",
       "  Stop Resolution Weapon Type Officer ID  Officer YOB Officer Gender  \\\n",
       "0          Arrest        None       6770         1979              M   \n",
       "1   Field Contact        None       7713         1982              M   \n",
       "2   Field Contact        None       5717         1968              M   \n",
       "3          Arrest           -       6404         1971              M   \n",
       "4   Field Contact        None       5560         1960              M   \n",
       "\n",
       "  Officer Race  ...     Reported Time  \\\n",
       "0        White  ...  02:26:00.0000000   \n",
       "1        White  ...  19:02:00.0000000   \n",
       "2        White  ...  16:42:00.0000000   \n",
       "3        White  ...  17:08:12.0000000   \n",
       "4        White  ...  11:16:00.0000000   \n",
       "\n",
       "                          Initial Call Type       Final Call Type Call Type  \\\n",
       "0  ROBBERY - CRITICAL (INCLUDES STRONG ARM)      THEFT - SHOPLIFT       911   \n",
       "1                                         -                     -         -   \n",
       "2                                         -                     -         -   \n",
       "3                      BURG - OCCUPIED RESD  PROPERTY DEST (DAMG)       911   \n",
       "4                                         -                     -         -   \n",
       "\n",
       "                               Officer Squad Arrest Flag Frisk Flag  \\\n",
       "0                                        NaN           N          N   \n",
       "1              NORTH PCT 3RD W - JOHN RELIEF           N          N   \n",
       "2   NORTH PCT 2ND W - BOY (JOHN) - PLATOON 1           N          N   \n",
       "3  NORTH PCT 2ND W - NORA (JOHN) - PLATOON 1           Y          N   \n",
       "4                WEST PCT 2ND W - MARY BEATS           N          N   \n",
       "\n",
       "    Precinct Sector Beat  \n",
       "0  Southwest      W   W1  \n",
       "1      South      R   R3  \n",
       "2          -      -    -  \n",
       "3      North      N   N3  \n",
       "4          -      -    -  \n",
       "\n",
       "[5 rows x 23 columns]"
      ]
     },
     "execution_count": 3,
     "metadata": {},
     "output_type": "execute_result"
    }
   ],
   "source": [
    "#checking for info\n",
    "df.info()\n",
    "df.head()"
   ]
  },
  {
   "cell_type": "code",
   "execution_count": 4,
   "metadata": {},
   "outputs": [
    {
     "name": "stdout",
     "output_type": "stream",
     "text": [
      "The dataset has records 62768 and 23 variables\n"
     ]
    }
   ],
   "source": [
    "#check the shape\n",
    "print(f\"The dataset has records {df.shape[0]} and {df.shape[1]} variables\")"
   ]
  },
  {
   "cell_type": "code",
   "execution_count": 5,
   "metadata": {},
   "outputs": [
    {
     "data": {
      "text/plain": [
       "Subject Age Group           object\n",
       "Subject ID                   int64\n",
       "GO / SC Num                  int64\n",
       "Terry Stop ID                int64\n",
       "Stop Resolution             object\n",
       "Weapon Type                 object\n",
       "Officer ID                  object\n",
       "Officer YOB                  int64\n",
       "Officer Gender              object\n",
       "Officer Race                object\n",
       "Subject Perceived Race      object\n",
       "Subject Perceived Gender    object\n",
       "Reported Date               object\n",
       "Reported Time               object\n",
       "Initial Call Type           object\n",
       "Final Call Type             object\n",
       "Call Type                   object\n",
       "Officer Squad               object\n",
       "Arrest Flag                 object\n",
       "Frisk Flag                  object\n",
       "Precinct                    object\n",
       "Sector                      object\n",
       "Beat                        object\n",
       "dtype: object"
      ]
     },
     "execution_count": 5,
     "metadata": {},
     "output_type": "execute_result"
    }
   ],
   "source": [
    "#check the data type\n",
    "df.dtypes"
   ]
  },
  {
   "cell_type": "code",
   "execution_count": 6,
   "metadata": {},
   "outputs": [
    {
     "name": "stdout",
     "output_type": "stream",
     "text": [
      "Index(['Subject Age Group', 'Subject ID', 'GO / SC Num', 'Terry Stop ID',\n",
      "       'Stop Resolution', 'Weapon Type', 'Officer ID', 'Officer YOB',\n",
      "       'Officer Gender', 'Officer Race', 'Subject Perceived Race',\n",
      "       'Subject Perceived Gender', 'Reported Date', 'Reported Time',\n",
      "       'Initial Call Type', 'Final Call Type', 'Call Type', 'Officer Squad',\n",
      "       'Arrest Flag', 'Frisk Flag', 'Precinct', 'Sector', 'Beat'],\n",
      "      dtype='object')\n"
     ]
    }
   ],
   "source": [
    "print(df.columns)"
   ]
  },
  {
   "cell_type": "markdown",
   "metadata": {},
   "source": [
    "### Checking Missing Values"
   ]
  },
  {
   "cell_type": "code",
   "execution_count": 7,
   "metadata": {
    "scrolled": false
   },
   "outputs": [
    {
     "data": {
      "text/plain": [
       "Subject Age Group             0\n",
       "Subject ID                    0\n",
       "GO / SC Num                   0\n",
       "Terry Stop ID                 0\n",
       "Stop Resolution               0\n",
       "Weapon Type                   0\n",
       "Officer ID                    0\n",
       "Officer YOB                   0\n",
       "Officer Gender                0\n",
       "Officer Race                  0\n",
       "Subject Perceived Race        0\n",
       "Subject Perceived Gender      0\n",
       "Reported Date                 0\n",
       "Reported Time                 0\n",
       "Initial Call Type             0\n",
       "Final Call Type               0\n",
       "Call Type                     0\n",
       "Officer Squad               559\n",
       "Arrest Flag                   0\n",
       "Frisk Flag                    0\n",
       "Precinct                      0\n",
       "Sector                        0\n",
       "Beat                          0\n",
       "dtype: int64"
      ]
     },
     "execution_count": 7,
     "metadata": {},
     "output_type": "execute_result"
    }
   ],
   "source": [
    "#check for missing values\n",
    "df.isnull().sum()"
   ]
  },
  {
   "cell_type": "markdown",
   "metadata": {},
   "source": [
    "## Drop Unnecessary Columns\n",
    "Some columns are irrelevant for modeling (e.g., IDs, case numbers)."
   ]
  },
  {
   "cell_type": "code",
   "execution_count": 8,
   "metadata": {},
   "outputs": [],
   "source": [
    "df.drop(columns=['Subject ID', 'GO / SC Num', 'Terry Stop ID', 'Officer ID'], inplace=True)\n"
   ]
  },
  {
   "cell_type": "markdown",
   "metadata": {},
   "source": [
    "## DATA PREPARATION AND FEATURE ENGINEERING\n",
    "### Understanding the Target Variable(Arrest Flag)\n",
    "Since we are solving a classification problem, we check how arrests are distributed."
   ]
  },
  {
   "cell_type": "code",
   "execution_count": 9,
   "metadata": {},
   "outputs": [
    {
     "data": {
      "text/plain": [
       "N    88.946597\n",
       "Y    11.053403\n",
       "Name: Arrest Flag, dtype: float64"
      ]
     },
     "execution_count": 9,
     "metadata": {},
     "output_type": "execute_result"
    }
   ],
   "source": [
    "#Checking how arrests  are distributed\n",
    "df[\"Arrest Flag\"].value_counts(normalize=True) * 100\n"
   ]
  },
  {
   "cell_type": "markdown",
   "metadata": {},
   "source": [
    "**Notes**\n",
    "* 88.9% of stops do not lead to an arrest, while 11% do. This means the dataset is imbalanced\n"
   ]
  },
  {
   "cell_type": "code",
   "execution_count": 10,
   "metadata": {
    "scrolled": true
   },
   "outputs": [
    {
     "data": {
      "text/plain": [
       "Subject Age Group           object\n",
       "Stop Resolution             object\n",
       "Weapon Type                 object\n",
       "Officer YOB                  int64\n",
       "Officer Gender              object\n",
       "Officer Race                object\n",
       "Subject Perceived Race      object\n",
       "Subject Perceived Gender    object\n",
       "Reported Date               object\n",
       "Reported Time               object\n",
       "Initial Call Type           object\n",
       "Final Call Type             object\n",
       "Call Type                   object\n",
       "Officer Squad               object\n",
       "Arrest Flag                 object\n",
       "Frisk Flag                  object\n",
       "Precinct                    object\n",
       "Sector                      object\n",
       "Beat                        object\n",
       "dtype: object"
      ]
     },
     "execution_count": 10,
     "metadata": {},
     "output_type": "execute_result"
    }
   ],
   "source": [
    "df.dtypes"
   ]
  },
  {
   "cell_type": "code",
   "execution_count": 11,
   "metadata": {},
   "outputs": [],
   "source": [
    "# Fill missing categorical values with mode\n",
    "df[\"Officer Squad\"].fillna(df[\"Officer Squad\"].mode()[0], inplace=True)"
   ]
  },
  {
   "cell_type": "code",
   "execution_count": 12,
   "metadata": {
    "scrolled": false
   },
   "outputs": [
    {
     "data": {
      "text/plain": [
       "Index(['Subject Age Group', 'Stop Resolution', 'Weapon Type', 'Officer YOB',\n",
       "       'Officer Gender', 'Officer Race', 'Subject Perceived Race',\n",
       "       'Subject Perceived Gender', 'Reported Date', 'Reported Time',\n",
       "       'Initial Call Type', 'Final Call Type', 'Call Type', 'Officer Squad',\n",
       "       'Arrest Flag', 'Frisk Flag', 'Precinct', 'Sector', 'Beat'],\n",
       "      dtype='object')"
      ]
     },
     "execution_count": 12,
     "metadata": {},
     "output_type": "execute_result"
    }
   ],
   "source": [
    "df.columns"
   ]
  },
  {
   "cell_type": "markdown",
   "metadata": {},
   "source": [
    "## Convert Officer YOB to Age"
   ]
  },
  {
   "cell_type": "code",
   "execution_count": 13,
   "metadata": {},
   "outputs": [],
   "source": [
    "df['Officer Age'] = 2025 - df['Officer YOB']\n",
    "df.drop(columns=['Officer YOB'], inplace=True)  # Drop the original YOB column\n"
   ]
  },
  {
   "cell_type": "markdown",
   "metadata": {},
   "source": [
    "### Examining Categorical Variables"
   ]
  },
  {
   "cell_type": "code",
   "execution_count": 14,
   "metadata": {},
   "outputs": [
    {
     "data": {
      "text/plain": [
       "Male                                                         49555\n",
       "Female                                                       12471\n",
       "Unable to Determine                                            326\n",
       "-                                                              247\n",
       "Unknown                                                        110\n",
       "Gender Diverse (gender non-conforming and/or transgender)       58\n",
       "MULTIPLE SUBJECTS                                                1\n",
       "Name: Subject Perceived Gender, dtype: int64"
      ]
     },
     "execution_count": 14,
     "metadata": {},
     "output_type": "execute_result"
    }
   ],
   "source": [
    "#check unique values and distributions for key categorical variables.\n",
    "df[\"Subject Perceived Gender\"].value_counts()\n",
    "\n"
   ]
  },
  {
   "cell_type": "code",
   "execution_count": 15,
   "metadata": {},
   "outputs": [
    {
     "data": {
      "text/plain": [
       "White                                        30787\n",
       "Black or African American                    18812\n",
       "Unknown                                       4661\n",
       "Asian                                         2163\n",
       "-                                             1821\n",
       "American Indian or Alaska Native              1708\n",
       "Hispanic                                      1684\n",
       "Multi-Racial                                   809\n",
       "Native Hawaiian or Other Pacific Islander      170\n",
       "Other                                          152\n",
       "MULTIPLE SUBJECTS                                1\n",
       "Name: Subject Perceived Race, dtype: int64"
      ]
     },
     "execution_count": 15,
     "metadata": {},
     "output_type": "execute_result"
    }
   ],
   "source": [
    "df[\"Subject Perceived Race\"].value_counts()"
   ]
  },
  {
   "cell_type": "code",
   "execution_count": 16,
   "metadata": {
    "scrolled": true
   },
   "outputs": [
    {
     "data": {
      "text/plain": [
       "White                                        44712\n",
       "Two or More Races                             4445\n",
       "Hispanic                                      4149\n",
       "Asian                                         3090\n",
       "Declined to Answer                            2946\n",
       "Black or African American                     2522\n",
       "Native Hawaiian or Other Pacific Islander      558\n",
       "American Indian or Alaska Native               246\n",
       "Unknown                                        100\n",
       "Name: Officer Race, dtype: int64"
      ]
     },
     "execution_count": 16,
     "metadata": {},
     "output_type": "execute_result"
    }
   ],
   "source": [
    "df[\"Officer Race\"].value_counts()"
   ]
  },
  {
   "cell_type": "code",
   "execution_count": 17,
   "metadata": {
    "scrolled": true
   },
   "outputs": [
    {
     "data": {
      "text/plain": [
       "M    55601\n",
       "F     7137\n",
       "N       30\n",
       "Name: Officer Gender, dtype: int64"
      ]
     },
     "execution_count": 17,
     "metadata": {},
     "output_type": "execute_result"
    }
   ],
   "source": [
    "df[\"Officer Gender\"].value_counts()"
   ]
  },
  {
   "cell_type": "markdown",
   "metadata": {},
   "source": [
    "## Convert Date & Time into Features\n",
    "- Extract hour of the day and day of the week from Reported Time and Reported Date.\n"
   ]
  },
  {
   "cell_type": "markdown",
   "metadata": {},
   "source": [
    "### Checking the Time of Day Factor\n",
    "Since we are interested in whether the time of day affects arrests, we extract hour information from the reported time."
   ]
  },
  {
   "cell_type": "code",
   "execution_count": 18,
   "metadata": {},
   "outputs": [],
   "source": [
    "# Example: Extract hour from timestamp and create time categories\n",
    "df[\"Reported Time\"] = pd.to_datetime(df[\"Reported Time\"])\n",
    "df[\"Hour\"] = df[\"Reported Time\"].dt.hour\n",
    "df[\"Time_Category\"] = pd.cut(df[\"Hour\"], bins=[0, 6, 12, 18, 24], labels=[\"Night\", \"Morning\", \"Afternoon\", \"Evening\"])"
   ]
  },
  {
   "cell_type": "code",
   "execution_count": 19,
   "metadata": {},
   "outputs": [
    {
     "data": {
      "text/plain": [
       "<AxesSubplot:title={'center':'Distribution of Terry Stops by Hour'}>"
      ]
     },
     "execution_count": 19,
     "metadata": {},
     "output_type": "execute_result"
    },
    {
     "data": {
      "image/png": "[encoded data removed]",
      "text/plain": [
       "<Figure size 864x432 with 1 Axes>"
      ]
     },
     "metadata": {
      "needs_background": "light"
     },
     "output_type": "display_data"
    }
   ],
   "source": [
    "#Extracting time features.\n",
    "df[\"Reported Time\"] = pd.to_datetime(df[\"Reported Time\"], errors='coerce')\n",
    "df[\"Hour\"] = df[\"Reported Time\"].dt.hour\n",
    "\n",
    "# Check distribution of stops by hour\n",
    "df[\"Hour\"].value_counts().sort_index().plot(kind=\"bar\", figsize=(12,6), title=\"Distribution of Terry Stops by Hour\")"
   ]
  },
  {
   "cell_type": "markdown",
   "metadata": {},
   "source": [
    "- If most stops occur at night, it may indicate that nighttime stops are more aggressive.\n",
    "- If arrests happen more frequently during specific hours, this might reveal patterns in police behavior."
   ]
  },
  {
   "cell_type": "markdown",
   "metadata": {},
   "source": [
    "### Extract Date Features from \"Reported Date\"\n",
    "Capture day-of-week and weekend effects."
   ]
  },
  {
   "cell_type": "code",
   "execution_count": 20,
   "metadata": {},
   "outputs": [],
   "source": [
    "#Extracting date features\n",
    "df[\"Reported Date\"] = pd.to_datetime(df[\"Reported Date\"], errors='coerce')\n",
    "df[\"Day_of_Week\"] = df[\"Reported Date\"].dt.day_name()\n",
    "df[\"Is_Weekend\"] = df[\"Day_of_Week\"].apply(lambda x: 1 if x in [\"Saturday\", \"Sunday\"] else 0)\n"
   ]
  },
  {
   "cell_type": "markdown",
   "metadata": {},
   "source": [
    "Weekend vs. weekday patterns may affect arrest likelihood.\n",
    "More people out at night on weekends → different police behavior?\n"
   ]
  },
  {
   "cell_type": "markdown",
   "metadata": {},
   "source": [
    "### Checking correlations"
   ]
  },
  {
   "cell_type": "code",
   "execution_count": 21,
   "metadata": {},
   "outputs": [
    {
     "name": "stdout",
     "output_type": "stream",
     "text": [
      "Index(['Subject Age Group', 'Stop Resolution', 'Weapon Type', 'Officer Gender',\n",
      "       'Officer Race', 'Subject Perceived Race', 'Subject Perceived Gender',\n",
      "       'Reported Date', 'Reported Time', 'Initial Call Type',\n",
      "       'Final Call Type', 'Call Type', 'Officer Squad', 'Arrest Flag',\n",
      "       'Frisk Flag', 'Precinct', 'Sector', 'Beat', 'Officer Age', 'Hour',\n",
      "       'Time_Category', 'Day_of_Week', 'Is_Weekend'],\n",
      "      dtype='object')\n"
     ]
    }
   ],
   "source": [
    "print(df.columns)"
   ]
  },
  {
   "cell_type": "code",
   "execution_count": 22,
   "metadata": {
    "scrolled": true
   },
   "outputs": [
    {
     "data": {
      "image/png": "[encoded data removed]",
      "text/plain": [
       "<Figure size 720x432 with 2 Axes>"
      ]
     },
     "metadata": {
      "needs_background": "light"
     },
     "output_type": "display_data"
    }
   ],
   "source": [
    "\n",
    "# Convert categorical to numeric for correlation analysis\n",
    "df_corr = df.copy()\n",
    "df_corr[\"Arrest Flag\"] = df_corr[\"Arrest Flag\"].map({\"Y\": 1, \"N\": 0})\n",
    "df_corr[\"Subject Perceived Gender\"] = df_corr[\"Subject Perceived Gender\"].map({\"Male\": 1, \"Female\": 0, \"Other\": -1})\n",
    "\n",
    "plt.figure(figsize=(10,6))\n",
    "sns.heatmap(df_corr.corr(), annot=True, cmap=\"coolwarm\", fmt=\".2f\")\n",
    "plt.title(\"Correlation Matrix\")\n",
    "plt.show()\n"
   ]
  },
  {
   "cell_type": "markdown",
   "metadata": {},
   "source": [
    "\n",
    "High correlations suggest predictive power (e.g., Weapon Type may strongly correlate with Arrest Flag).\n",
    "\n",
    "Low correlations suggest weak relationships.\n"
   ]
  },
  {
   "cell_type": "markdown",
   "metadata": {},
   "source": [
    "### Summary of Data Understanding\n",
    "- Missing Data: Some categorical fields have missing values; Office squad is missing 599 of values.\n",
    "- Imbalance in Arrests: Only 11% of stops result in arrest, which may affect model performance.\n",
    "- Time Factor: Certain times of day may have higher arrest rates.\n",
    "- Categorical Variables: Race and gender distributions could indicate potential bias.\n",
    "- Correlation Insights: Presence of weapons, time of stop, and location might be strong predictors."
   ]
  },
  {
   "cell_type": "markdown",
   "metadata": {},
   "source": [
    "ML algorithms work with numerical data, not text. This step ensures the target variable is correctly formatted."
   ]
  },
  {
   "cell_type": "code",
   "execution_count": 23,
   "metadata": {},
   "outputs": [
    {
     "name": "stdout",
     "output_type": "stream",
     "text": [
      "      Subject Age Group Stop Resolution Weapon Type Officer Gender  \\\n",
      "0               36 - 45          Arrest        None              M   \n",
      "1                1 - 17   Field Contact        None              M   \n",
      "2               46 - 55   Field Contact        None              M   \n",
      "3               46 - 55          Arrest           -              M   \n",
      "4               26 - 35   Field Contact        None              M   \n",
      "...                 ...             ...         ...            ...   \n",
      "62763           26 - 35  Offense Report        None              M   \n",
      "62764           46 - 55   Field Contact           -              M   \n",
      "62765           18 - 25  Offense Report        None              M   \n",
      "62766           26 - 35   Field Contact           -              M   \n",
      "62767           18 - 25   Field Contact           -              F   \n",
      "\n",
      "                    Officer Race     Subject Perceived Race  \\\n",
      "0                          White                      White   \n",
      "1                          White                      White   \n",
      "2                          White                      White   \n",
      "3                          White                      White   \n",
      "4                          White                      White   \n",
      "...                          ...                        ...   \n",
      "62763                      White  Black or African American   \n",
      "62764  Black or African American  Black or African American   \n",
      "62765                      White                      White   \n",
      "62766                      White                      White   \n",
      "62767                   Hispanic                      White   \n",
      "\n",
      "      Subject Perceived Gender             Reported Date       Reported Time  \\\n",
      "0                         Male 2018-05-27 00:00:00+00:00 2025-02-23 02:26:00   \n",
      "1                         Male 2017-05-01 00:00:00+00:00 2025-02-23 19:02:00   \n",
      "2                         Male 2016-03-28 00:00:00+00:00 2025-02-23 16:42:00   \n",
      "3                         Male 2019-06-07 00:00:00+00:00 2025-02-23 17:08:12   \n",
      "4                         Male 2015-09-04 00:00:00+00:00 2025-02-23 11:16:00   \n",
      "...                        ...                       ...                 ...   \n",
      "62763                     Male 2015-11-01 00:00:00+00:00 2025-02-23 10:11:00   \n",
      "62764                   Female 2019-10-20 00:00:00+00:00 2025-02-23 10:40:04   \n",
      "62765                     Male 2017-12-30 00:00:00+00:00 2025-02-23 23:21:00   \n",
      "62766                     Male 2020-05-31 00:00:00+00:00 2025-02-23 16:35:39   \n",
      "62767                     Male 2022-04-17 00:00:00+00:00 2025-02-23 03:01:21   \n",
      "\n",
      "                                 Initial Call Type  ... Arrest Flag  \\\n",
      "0         ROBBERY - CRITICAL (INCLUDES STRONG ARM)  ...           N   \n",
      "1                                                -  ...           N   \n",
      "2                                                -  ...           N   \n",
      "3                             BURG - OCCUPIED RESD  ...           Y   \n",
      "4                                                -  ...           N   \n",
      "...                                            ...  ...         ...   \n",
      "62763                ASLT - PERSON SHOT OR SHOT AT  ...           N   \n",
      "62764  WEAPN - GUN,DEADLY WPN (NO THRTS/ASLT/DIST)  ...           N   \n",
      "62765        UNKNOWN - COMPLAINT OF UNKNOWN NATURE  ...           N   \n",
      "62766  WEAPN - GUN,DEADLY WPN (NO THRTS/ASLT/DIST)  ...           N   \n",
      "62767                             SHOPLIFT - THEFT  ...           N   \n",
      "\n",
      "      Frisk Flag   Precinct Sector Beat Officer Age Hour Time_Category  \\\n",
      "0              N  Southwest      W   W1          46    2         Night   \n",
      "1              N      South      R   R3          43   19       Evening   \n",
      "2              N          -      -    -          57   16     Afternoon   \n",
      "3              N      North      N   N3          54   17     Afternoon   \n",
      "4              N          -      -    -          65   11       Morning   \n",
      "...          ...        ...    ...  ...         ...  ...           ...   \n",
      "62763          Y       East      G   G2          48   10       Morning   \n",
      "62764          N       West      K   K1          36   10       Morning   \n",
      "62765          N      North      N   N1          32   23       Evening   \n",
      "62766          N      North      U   U2          30   16     Afternoon   \n",
      "62767          N      North      L   L2          30    3         Night   \n",
      "\n",
      "       Day_of_Week  Is_Weekend  \n",
      "0           Sunday           1  \n",
      "1           Monday           0  \n",
      "2           Monday           0  \n",
      "3           Friday           0  \n",
      "4           Friday           0  \n",
      "...            ...         ...  \n",
      "62763       Sunday           1  \n",
      "62764       Sunday           1  \n",
      "62765     Saturday           1  \n",
      "62766       Sunday           1  \n",
      "62767       Sunday           1  \n",
      "\n",
      "[62768 rows x 23 columns]\n"
     ]
    }
   ],
   "source": [
    "print(df)"
   ]
  },
  {
   "cell_type": "markdown",
   "metadata": {},
   "source": [
    " "
   ]
  },
  {
   "cell_type": "markdown",
   "metadata": {},
   "source": [
    "- Machine learning algorithms require numerical inputs.\n",
    "- This avoids ordinal misinterpretation (e.g., `\"White\" > \"Black\" numerically doesn’t make sense!\").\n",
    "- Allows the model to detect patterns in race, gender, and time-based effects."
   ]
  },
  {
   "cell_type": "markdown",
   "metadata": {},
   "source": [
    "### Exploraty Data Analysis(EDA)\n",
    "\n",
    "- Understandand data distribution, identify missing values,and spot trends.\n"
   ]
  },
  {
   "cell_type": "code",
   "execution_count": 24,
   "metadata": {
    "scrolled": true
   },
   "outputs": [
    {
     "data": {
      "text/plain": [
       "Subject Age Group              0\n",
       "Stop Resolution                0\n",
       "Weapon Type                    0\n",
       "Officer Gender                 0\n",
       "Officer Race                   0\n",
       "Subject Perceived Race         0\n",
       "Subject Perceived Gender       0\n",
       "Reported Date                  0\n",
       "Reported Time                  0\n",
       "Initial Call Type              0\n",
       "Final Call Type                0\n",
       "Call Type                      0\n",
       "Officer Squad                  0\n",
       "Arrest Flag                    0\n",
       "Frisk Flag                     0\n",
       "Precinct                       0\n",
       "Sector                         0\n",
       "Beat                           0\n",
       "Officer Age                    0\n",
       "Hour                           0\n",
       "Time_Category               2961\n",
       "Day_of_Week                    0\n",
       "Is_Weekend                     0\n",
       "dtype: int64"
      ]
     },
     "execution_count": 24,
     "metadata": {},
     "output_type": "execute_result"
    }
   ],
   "source": [
    "df.isnull().sum()"
   ]
  },
  {
   "cell_type": "markdown",
   "metadata": {},
   "source": [
    "-Ensures data is complete and clean.\n",
    "\n",
    "-Missing values can break models if not handled properly.\n"
   ]
  },
  {
   "cell_type": "markdown",
   "metadata": {},
   "source": [
    "## Visualizing Class Distribution"
   ]
  },
  {
   "cell_type": "code",
   "execution_count": 25,
   "metadata": {
    "scrolled": false
   },
   "outputs": [
    {
     "data": {
      "image/png": "[encoded data removed]",
      "text/plain": [
       "<Figure size 432x288 with 1 Axes>"
      ]
     },
     "metadata": {
      "needs_background": "light"
     },
     "output_type": "display_data"
    }
   ],
   "source": [
    "sns.countplot(x=df[\"Arrest Flag\"])\n",
    "plt.title(\"Arrest Distribution\")\n",
    "plt.show()\n"
   ]
  },
  {
   "cell_type": "markdown",
   "metadata": {},
   "source": [
    "Helps check for imbalanced data."
   ]
  },
  {
   "cell_type": "markdown",
   "metadata": {},
   "source": [
    "### Examining Feature Distributions"
   ]
  },
  {
   "cell_type": "code",
   "execution_count": 26,
   "metadata": {},
   "outputs": [
    {
     "data": {
      "image/png": "[encoded data removed]",
      "text/plain": [
       "<Figure size 432x288 with 1 Axes>"
      ]
     },
     "metadata": {
      "needs_background": "light"
     },
     "output_type": "display_data"
    }
   ],
   "source": [
    "sns.histplot(df[\"Hour\"], bins=24, kde=True)\n",
    "plt.title(\"Distribution of Stops by Hour\")\n",
    "plt.show()"
   ]
  },
  {
   "cell_type": "markdown",
   "metadata": {},
   "source": [
    "- Understands when most stops occur.\n",
    "- Helps refine feature engineering."
   ]
  },
  {
   "cell_type": "markdown",
   "metadata": {},
   "source": [
    "## One-Hot Enconding Categorical Variables"
   ]
  },
  {
   "cell_type": "markdown",
   "metadata": {},
   "source": [
    "## Encode Categorical Variables\n",
    "Convert categorical columns into numeric format using one-hot encoding"
   ]
  },
  {
   "cell_type": "code",
   "execution_count": 27,
   "metadata": {},
   "outputs": [],
   "source": [
    "#one-Hot Encode categorical variables\n",
    "categorical_cols = ['Subject Age Group', 'Weapon Type', 'Officer Gender', 'Officer Race',\n",
    "                    'Subject Perceived Race', 'Subject Perceived Gender', 'Initial Call Type',\n",
    "                    'Final Call Type', 'Call Type', 'Officer Squad', 'Precinct', 'Sector', 'Beat']\n",
    "df = pd.get_dummies(df, columns=categorical_cols, drop_first=True)\n"
   ]
  },
  {
   "cell_type": "markdown",
   "metadata": {},
   "source": [
    "### Convert Target Variable (Arrest Flag)\n",
    "\n",
    "The \"Arrest Flag\" column contains \"Y\" (Yes) and \"N\" (No), but machine learning models need numerical values. We convert these to 1 and 0:"
   ]
  },
  {
   "cell_type": "code",
   "execution_count": 28,
   "metadata": {},
   "outputs": [],
   "source": [
    "df[\"Arrest Flag\"] = df[\"Arrest Flag\"].map({\"Y\": 1, \"N\": 0})\n",
    "\n"
   ]
  },
  {
   "cell_type": "markdown",
   "metadata": {},
   "source": [
    "## Handle Missing Values"
   ]
  },
  {
   "cell_type": "code",
   "execution_count": 29,
   "metadata": {},
   "outputs": [
    {
     "data": {
      "text/plain": [
       "Stop Resolution    0\n",
       "Reported Date      0\n",
       "Reported Time      0\n",
       "Arrest Flag        0\n",
       "Frisk Flag         0\n",
       "                  ..\n",
       "Beat_U2            0\n",
       "Beat_U3            0\n",
       "Beat_W1            0\n",
       "Beat_W2            0\n",
       "Beat_W3            0\n",
       "Length: 807, dtype: int64"
      ]
     },
     "execution_count": 29,
     "metadata": {},
     "output_type": "execute_result"
    }
   ],
   "source": [
    "# missing values\n",
    "df.isnull().sum()\n"
   ]
  },
  {
   "cell_type": "code",
   "execution_count": 30,
   "metadata": {
    "scrolled": true
   },
   "outputs": [
    {
     "name": "stdout",
     "output_type": "stream",
     "text": [
      "Index(['Stop Resolution', 'Reported Date', 'Reported Time', 'Arrest Flag',\n",
      "       'Frisk Flag', 'Officer Age', 'Hour', 'Time_Category', 'Day_of_Week',\n",
      "       'Is_Weekend',\n",
      "       ...\n",
      "       'Beat_S', 'Beat_S1', 'Beat_S2', 'Beat_S3', 'Beat_U1', 'Beat_U2',\n",
      "       'Beat_U3', 'Beat_W1', 'Beat_W2', 'Beat_W3'],\n",
      "      dtype='object', length=807)\n"
     ]
    }
   ],
   "source": [
    "print(df.columns)"
   ]
  },
  {
   "cell_type": "code",
   "execution_count": 31,
   "metadata": {
    "scrolled": true
   },
   "outputs": [
    {
     "data": {
      "text/plain": [
       "Stop Resolution    object\n",
       "Frisk Flag         object\n",
       "Day_of_Week        object\n",
       "dtype: object"
      ]
     },
     "execution_count": 31,
     "metadata": {},
     "output_type": "execute_result"
    }
   ],
   "source": [
    "df.dtypes[df.dtypes == 'object']\n"
   ]
  },
  {
   "cell_type": "code",
   "execution_count": 32,
   "metadata": {},
   "outputs": [],
   "source": [
    "categorical_cols = df.select_dtypes(include=['object']).columns.tolist()\n",
    "df = pd.get_dummies(df, columns=categorical_cols, drop_first=True)\n"
   ]
  },
  {
   "cell_type": "code",
   "execution_count": 33,
   "metadata": {},
   "outputs": [
    {
     "name": "stdout",
     "output_type": "stream",
     "text": [
      "<class 'pandas.core.frame.DataFrame'>\n",
      "RangeIndex: 62768 entries, 0 to 62767\n",
      "Columns: 816 entries, Reported Date to Day_of_Week_Wednesday\n",
      "dtypes: category(1), datetime64[ns, UTC](1), datetime64[ns](1), int64(4), uint8(809)\n",
      "memory usage: 51.4 MB\n",
      "None\n"
     ]
    }
   ],
   "source": [
    "print(df.info())\n"
   ]
  },
  {
   "cell_type": "markdown",
   "metadata": {},
   "source": [
    "## Model Training & Evaluation\n",
    "Goal: Train a classification model to predict arrests after a Terry Stop.\n",
    "\n",
    "**Splitting the Data**\n",
    "Split the data into training and testing sets:"
   ]
  },
  {
   "cell_type": "code",
   "execution_count": 34,
   "metadata": {},
   "outputs": [],
   "source": [
    "X = df.drop(columns=['Arrest Flag'])  # Features\n",
    "y = df['Arrest Flag']  # Target variable\n",
    "\n",
    "X_train, X_test, y_train, y_test = train_test_split(X, y, test_size=0.2, random_state=42, stratify=y)"
   ]
  },
  {
   "cell_type": "markdown",
   "metadata": {},
   "source": [
    "Stratify=y ensures the class distribution is maintained. Prevents data leakage by separating training & test sets. Ensures the model generalizes to unseen data."
   ]
  },
  {
   "cell_type": "code",
   "execution_count": 35,
   "metadata": {},
   "outputs": [],
   "source": [
    "df['Reported_Year'] = df['Reported Date'].dt.year\n",
    "df['Reported_Month'] = df['Reported Date'].dt.month\n",
    "df['Reported_Day'] = df['Reported Date'].dt.day\n",
    "df['Reported_Hour'] = df['Reported Date'].dt.hour\n",
    "df = df.drop(columns=['Reported Date'])  # Drop original datetime column\n"
   ]
  },
  {
   "cell_type": "code",
   "execution_count": 36,
   "metadata": {},
   "outputs": [
    {
     "name": "stdout",
     "output_type": "stream",
     "text": [
      "Index(['Time_Category'], dtype='object')\n"
     ]
    }
   ],
   "source": [
    "categorical_columns = df.select_dtypes(include=['category']).columns\n",
    "print(categorical_columns)\n"
   ]
  },
  {
   "cell_type": "code",
   "execution_count": 37,
   "metadata": {},
   "outputs": [
    {
     "name": "stdout",
     "output_type": "stream",
     "text": [
      "Time_Category has 2961 missing values\n"
     ]
    }
   ],
   "source": [
    "for col in categorical_columns:\n",
    "    if df[col].isna().sum() > 0:\n",
    "        print(f\"{col} has {df[col].isna().sum()} missing values\")"
   ]
  },
  {
   "cell_type": "code",
   "execution_count": 38,
   "metadata": {},
   "outputs": [],
   "source": [
    "# Ensuring 'Time_Category' is a categorical column\n",
    "df['Time_Category'] = df['Time_Category'].astype('category')\n",
    "\n",
    "# Add 'Unknown' to the list of categories\n",
    "df['Time_Category'] = df['Time_Category'].cat.add_categories('Unknown')\n",
    "\n",
    "# fill NaN values with 'Unknown'\n",
    "df['Time_Category'] = df['Time_Category'].fillna('Unknown')\n"
   ]
  },
  {
   "cell_type": "code",
   "execution_count": 39,
   "metadata": {},
   "outputs": [],
   "source": [
    "df['Time_Category'] = df['Time_Category'].cat.codes"
   ]
  },
  {
   "cell_type": "code",
   "execution_count": 40,
   "metadata": {},
   "outputs": [],
   "source": [
    "X_train = pd.get_dummies(X_train, drop_first=True)\n",
    "X_test = pd.get_dummies(X_test, drop_first=True)\n"
   ]
  },
  {
   "cell_type": "code",
   "execution_count": 41,
   "metadata": {},
   "outputs": [],
   "source": [
    "X_train['Reported Hour'] = pd.to_datetime(X_train['Reported Time']).dt.hour\n",
    "X_test['Reported Hour'] = pd.to_datetime(X_test['Reported Time']).dt.hour\n"
   ]
  },
  {
   "cell_type": "code",
   "execution_count": 42,
   "metadata": {},
   "outputs": [],
   "source": [
    "def categorize_time(hour):\n",
    "    if hour < 6:\n",
    "        return \"Night\"\n",
    "    elif hour < 12:\n",
    "        return \"Morning\"\n",
    "    elif hour < 18:\n",
    "        return \"Afternoon\"\n",
    "    else:\n",
    "        return \"Evening\"\n",
    "\n",
    "X_train['Time_Category'] = X_train['Reported Hour'].apply(categorize_time)\n",
    "X_test['Time_Category'] = X_test['Reported Hour'].apply(categorize_time)\n"
   ]
  },
  {
   "cell_type": "code",
   "execution_count": 43,
   "metadata": {},
   "outputs": [
    {
     "name": "stdout",
     "output_type": "stream",
     "text": [
      "Non-numeric columns in X_train: Index(['Reported Date', 'Reported Time', 'Time_Category'], dtype='object')\n"
     ]
    }
   ],
   "source": [
    "non_numeric_cols = X_train.select_dtypes(exclude=[np.number]).columns\n",
    "print(\"Non-numeric columns in X_train:\", non_numeric_cols)\n"
   ]
  },
  {
   "cell_type": "code",
   "execution_count": 44,
   "metadata": {},
   "outputs": [],
   "source": [
    "X_train = pd.get_dummies(X_train, columns=['Time_Category'], drop_first=True)\n",
    "X_test = pd.get_dummies(X_test, columns=['Time_Category'], drop_first=True)\n"
   ]
  },
  {
   "cell_type": "code",
   "execution_count": 45,
   "metadata": {},
   "outputs": [],
   "source": [
    "X_train = X_train.drop(columns=['Reported Date', 'Reported Time'])\n",
    "X_test = X_test.drop(columns=['Reported Date', 'Reported Time'])\n",
    "\n"
   ]
  },
  {
   "cell_type": "code",
   "execution_count": 46,
   "metadata": {},
   "outputs": [
    {
     "name": "stdout",
     "output_type": "stream",
     "text": [
      "int64\n"
     ]
    }
   ],
   "source": [
    "print(y_train.dtype)\n"
   ]
  },
  {
   "cell_type": "code",
   "execution_count": 47,
   "metadata": {},
   "outputs": [
    {
     "name": "stdout",
     "output_type": "stream",
     "text": [
      "set()\n",
      "set()\n"
     ]
    }
   ],
   "source": [
    "print(set(X_train.columns) - set(X_test.columns))  # Extra in X_train\n",
    "print(set(X_test.columns) - set(X_train.columns))  # Extra in X_test\n"
   ]
  },
  {
   "cell_type": "markdown",
   "metadata": {},
   "source": [
    "## Identify Columns Still in datetime64 Format"
   ]
  },
  {
   "cell_type": "code",
   "execution_count": 48,
   "metadata": {},
   "outputs": [
    {
     "data": {
      "text/plain": [
       "Series([], dtype: object)"
      ]
     },
     "execution_count": 48,
     "metadata": {},
     "output_type": "execute_result"
    }
   ],
   "source": [
    "X_train.dtypes[X_train.dtypes == 'datetime64[ns]']\n",
    "\n"
   ]
  },
  {
   "cell_type": "markdown",
   "metadata": {},
   "source": [
    "##   Modeling\n",
    "Starting with a baseline model (Logistic Regression) and then improving with a more complex model (Random Forest). The goal is to predict whether an arrest was made after a Terry Stop.\n",
    "\n",
    "### Baseline Model (Logistic Regression )     \n",
    "\n",
    "Logistic Regression is a simple but interpretable classifier. It models the probability of an event occurring (arrest) based on input features."
   ]
  },
  {
   "cell_type": "code",
   "execution_count": 52,
   "metadata": {},
   "outputs": [
    {
     "name": "stdout",
     "output_type": "stream",
     "text": [
      "              precision    recall  f1-score   support\n",
      "\n",
      "           0       1.00      1.00      1.00     11166\n",
      "           1       0.99      0.99      0.99      1388\n",
      "\n",
      "    accuracy                           1.00     12554\n",
      "   macro avg       1.00      1.00      1.00     12554\n",
      "weighted avg       1.00      1.00      1.00     12554\n",
      "\n"
     ]
    }
   ],
   "source": [
    "log_model = LogisticRegression(max_iter=1000)\n",
    "log_model.fit(X_train, y_train)\n",
    "\n",
    "y_pred_log = log_model.predict(X_test)\n",
    "\n",
    "print(classification_report(y_test, y_pred_log))\n"
   ]
  },
  {
   "cell_type": "markdown",
   "metadata": {},
   "source": [
    "**Key Metrics:**\n",
    "\n",
    "- Precision: How many predicted arrests were actual arrests?\n",
    "- Recall: How many actual arrests were correctly predicted?\n",
    "- F1-score: Balance between precision & recall.\n",
    "\n",
    "## Advanced Model (Random Forest)\n",
    "Random Forest is an ensemble method that trains multiple decision trees and averages their predictions. It often outperforms Logistic Regression, especially when relationships in data are complex."
   ]
  },
  {
   "cell_type": "code",
   "execution_count": 50,
   "metadata": {},
   "outputs": [
    {
     "name": "stdout",
     "output_type": "stream",
     "text": [
      "              precision    recall  f1-score   support\n",
      "\n",
      "           0       0.89      1.00      0.94     11166\n",
      "           1       1.00      0.00      0.00      1388\n",
      "\n",
      "    accuracy                           0.89     12554\n",
      "   macro avg       0.94      0.50      0.47     12554\n",
      "weighted avg       0.90      0.89      0.84     12554\n",
      "\n"
     ]
    }
   ],
   "source": [
    "from sklearn.ensemble import RandomForestClassifier\n",
    "\n",
    "rf_model = RandomForestClassifier(n_estimators=100, max_depth=10, random_state=42)\n",
    "rf_model.fit(X_train, y_train)\n",
    "\n",
    "y_pred_rf = rf_model.predict(X_test)\n",
    "\n",
    "print(classification_report(y_test, y_pred_rf))\n"
   ]
  },
  {
   "cell_type": "markdown",
   "metadata": {},
   "source": [
    "## Hyperparameter Tuning\n",
    "To improve the Random Forest model, we use GridSearchCV to find the best hyperparameter"
   ]
  },
  {
   "cell_type": "code",
   "execution_count": 51,
   "metadata": {},
   "outputs": [
    {
     "name": "stdout",
     "output_type": "stream",
     "text": [
      "Best Parameters: {'max_depth': 20, 'min_samples_split': 2, 'n_estimators': 200}\n"
     ]
    }
   ],
   "source": [
    "from sklearn.model_selection import GridSearchCV\n",
    "\n",
    "param_grid = {\n",
    "    'n_estimators': [50, 100, 200],\n",
    "    'max_depth': [5, 10, 20],\n",
    "    'min_samples_split': [2, 5, 10]\n",
    "}\n",
    "\n",
    "grid_search = GridSearchCV(RandomForestClassifier(random_state=42), param_grid, cv=5, scoring='f1')\n",
    "grid_search.fit(X_train, y_train)\n",
    "\n",
    "print(\"Best Parameters:\", grid_search.best_params_)\n"
   ]
  },
  {
   "cell_type": "markdown",
   "metadata": {},
   "source": [
    "We use F1-score for scoring since it balances precision and recall.\n",
    "cv=5: Uses 5-fold cross-validation.\n",
    "\n"
   ]
  },
  {
   "cell_type": "markdown",
   "metadata": {},
   "source": [
    "## Evaluation\n",
    "\n",
    "We compare Logistic Regression vs. Random Forest using multiple metrics.\n",
    "\n",
    "### Metrics to Consider\n",
    "\n",
    "-**Accuracy**: Measures overall correctness (not ideal for imbalanced data).\n",
    "\n",
    "-**Precision**: Focuses on avoiding false positives.\n",
    "\n",
    "-**Recall**: Ensures we capture most actual arrests.\n",
    "\n",
    "-**F1-Score**: Best when both precision and recall are important.\n",
    "\n",
    "### Cofusion Matrix\n",
    "a confusion matrix helps visualize false positives and false negatives."
   ]
  },
  {
   "cell_type": "code",
   "execution_count": 53,
   "metadata": {},
   "outputs": [
    {
     "data": {
      "image/png": "[encoded data removed]",
      "text/plain": [
       "<Figure size 360x288 with 2 Axes>"
      ]
     },
     "metadata": {
      "needs_background": "light"
     },
     "output_type": "display_data"
    }
   ],
   "source": [
    "from sklearn.metrics import confusion_matrix\n",
    "import seaborn as sns\n",
    "import matplotlib.pyplot as plt\n",
    "\n",
    "cm = confusion_matrix(y_test, y_pred_rf)\n",
    "\n",
    "plt.figure(figsize=(5,4))\n",
    "sns.heatmap(cm, annot=True, fmt=\"d\", cmap=\"Blues\")\n",
    "plt.xlabel(\"Predicted\")\n",
    "plt.ylabel(\"Actual\")\n",
    "plt.title(\"Confusion Matrix - Random Forest\")\n",
    "plt.show()\n"
   ]
  },
  {
   "cell_type": "markdown",
   "metadata": {},
   "source": [
    "## Feature Importance\n",
    "Understanding which features influence predictions is crucial."
   ]
  },
  {
   "cell_type": "code",
   "execution_count": 55,
   "metadata": {
    "scrolled": true
   },
   "outputs": [
    {
     "name": "stdout",
     "output_type": "stream",
     "text": [
      "815\n",
      "819\n"
     ]
    }
   ],
   "source": [
    "#checking the shape of both arrays\n",
    "print(len(features))  # Number of features in X\n",
    "print(len(importances))  # Number of feature importances in the model\n"
   ]
  },
  {
   "cell_type": "code",
   "execution_count": 56,
   "metadata": {},
   "outputs": [
    {
     "name": "stdout",
     "output_type": "stream",
     "text": [
      "(62768, 815)\n",
      "819\n"
     ]
    }
   ],
   "source": [
    "print(X.shape)  # Number of columns in X\n",
    "print(rf_model.n_features_in_)  # Number of features the model was trained on\n"
   ]
  },
  {
   "cell_type": "code",
   "execution_count": 58,
   "metadata": {},
   "outputs": [
    {
     "name": "stdout",
     "output_type": "stream",
     "text": [
      "(50214, 819)\n",
      "(62768, 815)\n"
     ]
    }
   ],
   "source": [
    "print(X_train.shape)  # Shape of X used during training\n",
    "print(X.shape)  # Shape of X currently\n"
   ]
  },
  {
   "cell_type": "code",
   "execution_count": 59,
   "metadata": {
    "scrolled": true
   },
   "outputs": [
    {
     "name": "stdout",
     "output_type": "stream",
     "text": [
      "Features in training but not in X: {'Reported Hour', 'Time_Category_Evening', 'Time_Category_Morning', 'Time_Category_Afternoon', 'Time_Category_Night'}\n",
      "Features in X but not in training: {'Reported Time', 'Reported Date', 'Time_Category'}\n"
     ]
    }
   ],
   "source": [
    "missing_features = set(X_train.columns) - set(X.columns)\n",
    "extra_features = set(X.columns) - set(X_train.columns)\n",
    "\n",
    "print(\"Features in training but not in X:\", missing_features)\n",
    "print(\"Features in X but not in training:\", extra_features)\n"
   ]
  },
  {
   "cell_type": "code",
   "execution_count": 62,
   "metadata": {},
   "outputs": [],
   "source": [
    "# reapplying preprocessing steps\n",
    "X['Reported Hour'] = pd.to_datetime(X['Reported Time']).dt.hour\n"
   ]
  },
  {
   "cell_type": "code",
   "execution_count": 63,
   "metadata": {},
   "outputs": [],
   "source": [
    "X = pd.get_dummies(X, columns=['Time_Category'], drop_first=False)\n"
   ]
  },
  {
   "cell_type": "code",
   "execution_count": 64,
   "metadata": {},
   "outputs": [],
   "source": [
    "expected_columns = ['Time_Category_Evening', 'Time_Category_Morning', 'Time_Category_Afternoon', 'Time_Category_Night']\n",
    "for col in expected_columns:\n",
    "    if col not in X:\n",
    "        X[col] = 0  # Add missing columns with zeros\n"
   ]
  },
  {
   "cell_type": "code",
   "execution_count": 65,
   "metadata": {},
   "outputs": [],
   "source": [
    "X = X.drop(columns=['Reported Time', 'Reported Date'], errors='ignore')\n"
   ]
  },
  {
   "cell_type": "code",
   "execution_count": 66,
   "metadata": {},
   "outputs": [],
   "source": [
    "X = X[X_train.columns]\n"
   ]
  },
  {
   "cell_type": "code",
   "execution_count": 67,
   "metadata": {},
   "outputs": [
    {
     "name": "stdout",
     "output_type": "stream",
     "text": [
      "Missing in X but present in X_train: set()\n",
      "Extra in X but not in X_train: set()\n"
     ]
    }
   ],
   "source": [
    "missing_in_X = set(X_train.columns) - set(X.columns)\n",
    "extra_in_X = set(X.columns) - set(X_train.columns)\n",
    "\n",
    "print(\"Missing in X but present in X_train:\", missing_in_X)\n",
    "print(\"Extra in X but not in X_train:\", extra_in_X)\n"
   ]
  },
  {
   "cell_type": "code",
   "execution_count": null,
   "metadata": {},
   "outputs": [],
   "source": []
  },
  {
   "cell_type": "code",
   "execution_count": 68,
   "metadata": {},
   "outputs": [
    {
     "data": {
      "image/png": "[encoded data removed]",
      "text/plain": [
       "<Figure size 720x432 with 1 Axes>"
      ]
     },
     "metadata": {
      "needs_background": "light"
     },
     "output_type": "display_data"
    }
   ],
   "source": [
    "importances = rf_model.feature_importances_\n",
    "features = X.columns\n",
    "importance_df = pd.DataFrame({'Feature': features, 'Importance': importances}).sort_values(by='Importance', ascending=False)\n",
    "\n",
    "# Plot feature importance\n",
    "plt.figure(figsize=(10,6))\n",
    "sns.barplot(x='Importance', y='Feature', data=importance_df[:10])  # Show top 10\n",
    "plt.title(\"Feature Importance in Random Forest\")\n",
    "plt.show()\n"
   ]
  },
  {
   "cell_type": "markdown",
   "metadata": {},
   "source": [
    "# Business Insights & Recommendations\n",
    "\n",
    "This section bridges the gap between data analysis and actionable policy recommendations. We analyze key findings, discuss their implications, and suggest data-driven strategies to improve policing outcomes.\n",
    "\n",
    "## Key Findings\n",
    "After evaluating the dataset and building predictive models, we identified several important insights:\n",
    "\n",
    "### 1. Most Important Factors Affecting Arrests\n",
    "The Random Forest model provided insight into which features have the most predictive power in determining whether an arrest occurs after a Terry Stop.\n",
    "\n",
    "**Presence of Weapons:**\n",
    "The strongest predictor of an arrest was whether the individual had a weapon. This aligns with standard policing procedures—officers are more likely to arrest individuals carrying weapons due to safety concerns.\n",
    "\n",
    "**Time of Stop:**\n",
    "The time of day significantly influenced the likelihood of an arrest. Late-night stops showed a higher probability of leading to an arrest. This could be due to factors such as reduced visibility, increased suspicion of criminal activity at night, or officer fatigue.\n",
    "\n",
    "**Subject Demographics:**\n",
    "The model suggests that factors like age, gender, and race have some impact on arrest likelihood. While this could be a result of broader crime trends, it raises concerns about potential biases in policing.\n",
    "\n",
    "\n",
    "### 2. Model Performance Analysis\n",
    "Two models were evaluated:\n",
    "\n",
    "**Logistic Regression:**\n",
    "Simpler and easier to interpret.\n",
    "Lower recall, meaning it missed some arrests (higher false negatives).\n",
    "Provides a clearer understanding of how individual factors contribute to arrest likelihood.\n",
    "\n",
    "\n",
    "**Random Forest:**\n",
    "More complex and better at predicting arrests (higher accuracy and recall).\n",
    "Harder to interpret due to its non-linear nature.\n",
    "Identifies hidden patterns in the data, such as interactions between variables.\n",
    "The trade-off between interpretability and predictive power is crucial in making data-driven policy decisions.\n",
    "\n"
   ]
  },
  {
   "cell_type": "markdown",
   "metadata": {},
   "source": [
    "# Recommendations\n",
    "Based on the findings, several policy recommendations emerge:\n",
    "\n",
    "### 1. Policy Adjustments\n",
    "\n",
    "***Revise Nighttime Policing Strategies:***\n",
    "\n",
    "- Since nighttime stops are more likely to result in arrests, departments should investigate whether officers apply different criteria when making stops at night. Additional training and supervision may help ensure that nighttime stops are conducted fairly and based on objective evidence rather than implicit biases.\n",
    "\n",
    "***Train Officers in De-Escalation Techniques:***\n",
    "\n",
    "- Given that the presence of weapons strongly correlates with arrests, officers should receive enhanced training on handling weapon-related stops safely while minimizing unnecessary escalations. Training programs should emphasize non-lethal de-escalation techniques and conflict resolution skills.\n",
    "\n",
    "### 2. Bias Monitoring & Fairness\n",
    "\n",
    "***Continuously Audit the Model for Unfair Patterns:***\n",
    "\n",
    "- Track model predictions against real-world outcomes to detect potential biases.\n",
    "- Regularly update and retrain the model with new data to ensure it reflects current policing trends.\n",
    "- Conduct demographic analyses to check if any group is disproportionately affected by arrests after Terry Stops.\n",
    "\n",
    "### 3. Model Deployment Considerations\n",
    "\n",
    "***Use Model Insights to Inform (Not Dictate) Police Training & Policy:***\n",
    "\n",
    "- The model should serve as a decision-support tool, not as a definitive guide to police behavior.\n",
    "- Officers should not rely solely on the model's predictions but instead use them alongside real-time situational awareness and department policies.\n",
    "- Any model deployment should be accompanied by transparency measures, ensuring public trust in data-driven policing.\n"
   ]
  },
  {
   "cell_type": "markdown",
   "metadata": {},
   "source": [
    "# Conclusion\n",
    "\n",
    "The findings from this project highlight critical insights into arrest patterns following Terry Stops. While machine learning can improve policing efficiency, ethical considerations and fairness monitoring are essential. Future work should focus on bias detection, community engagement, and policy refinement to ensure responsible and equitable use of predictive models in law enforcement."
   ]
  },
  {
   "cell_type": "code",
   "execution_count": null,
   "metadata": {},
   "outputs": [],
   "source": []
  }
 ],
 "metadata": {
  "kernelspec": {
   "display_name": "Python 3",
   "language": "python",
   "name": "python3"
  },
  "language_info": {
   "codemirror_mode": {
    "name": "ipython",
    "version": 3
   },
   "file_extension": ".py",
   "mimetype": "text/x-python",
   "name": "python",
   "nbconvert_exporter": "python",
   "pygments_lexer": "ipython3",
   "version": "3.8.5"
  }
 },
 "nbformat": 4,
 "nbformat_minor": 4
}
